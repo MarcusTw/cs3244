{
  "nbformat": 4,
  "nbformat_minor": 0,
  "metadata": {
    "colab": {
      "name": "01 » ML Pipeline » CS3244 Machine Learning",
      "provenance": [],
      "collapsed_sections": [
        "94Gixu7YXa27"
      ],
      "include_colab_link": true
    },
    "kernelspec": {
      "name": "python3",
      "display_name": "Python 3"
    }
  },
  "cells": [
    {
      "cell_type": "markdown",
      "metadata": {
        "id": "view-in-github",
        "colab_type": "text"
      },
      "source": [
        "<a href=\"https://colab.research.google.com/github/MarcusTw/cs3244/blob/main/01_%C2%BB_ML_Pipeline_%C2%BB_CS3244_Machine_Learning.ipynb\" target=\"_parent\"><img src=\"https://colab.research.google.com/assets/colab-badge.svg\" alt=\"Open In Colab\"/></a>"
      ]
    },
    {
      "cell_type": "markdown",
      "metadata": {
        "id": "NZgSizvS70xF"
      },
      "source": [
        "Available at http://www.comp.nus.edu.sg/~cs3244/AY2122S1/01.colab.html"
      ]
    },
    {
      "cell_type": "markdown",
      "metadata": {
        "id": "uvf81x6Vrysn"
      },
      "source": [
        "![Machine Learning](https://www.comp.nus.edu.sg/~cs3244/AY2122S1/2110-header.png)\n",
        "---\n",
        "See **Credits** below for acknowledgements and rights.  For NUS class credit, you'll need to do the corresponding [_LumiNUS Quiz_ in CS3244](https://luminus.nus.edu.sg/modules/0ddfb023-ee1c-4f20-bda0-337c807dfeb7/quiz/6d317c3c-f98b-4c0d-99e4-068642823ca5/) by the respective deadline (mentioned at the end of the notebook). \n",
        "\n",
        "**You must acknowledge that your submitted assessment is your independent work.**\n"
      ]
    },
    {
      "cell_type": "markdown",
      "metadata": {
        "id": "C7uUlXwCuvLY"
      },
      "source": [
        "**Learning Outcomes for this Notebook**\n",
        "\n",
        "After finishing this exercise, you should be able to:\n",
        "* Understand the basic means for executing machine learning."
      ]
    },
    {
      "cell_type": "markdown",
      "metadata": {
        "id": "UATxcaIRtMV_"
      },
      "source": [
        "# 1 Digit Recognition\n",
        "\n",
        "_Handwritten digit samples from the [MNIST (Modified National Institute of Standards and Technology) database](https://www.nist.gov/system/files/documents/srd/nistsd19.pdf).  Can you guess what was this first used for and who commissioned the work?_\n",
        "\n",
        "![Sample images from MNIST test dataset](https://upload.wikimedia.org/wikipedia/commons/2/27/MnistExamples.png)\n",
        "\n",
        "_Image by Josef Steppan via Wikipedia.  CC BY-SA 4.0_\n"
      ]
    },
    {
      "cell_type": "markdown",
      "metadata": {
        "id": "HZS3egoTg_FO"
      },
      "source": [
        "Now let's actually try to get some time on task in class.  We'll follow a modified tutorial for **[sklearn](http://scikit-learn.org/stable/tutorial/basic/tutorial.html)**, a very useful Python machine learning library which will be featured extensively in our course.  Let's first get the dataset _digits_ loaded in and take a peek at the data.  This is part of the famous MNIST digit dataset used to improve handwritten digit recognition."
      ]
    },
    {
      "cell_type": "code",
      "metadata": {
        "id": "859DSq97g_a8",
        "colab": {
          "base_uri": "https://localhost:8080/"
        },
        "outputId": "411ae94a-d9b4-4f4f-fd3a-7fb60a860473"
      },
      "source": [
        "# import the libraries to access data \n",
        "from sklearn import datasets\n",
        "\n",
        "# load in the data into a variable 'digits'\n",
        "digits = datasets.load_digits()\n",
        "\n",
        "# separate the loaded data into the digits (feature vectors) x and their corresponding answers (labels) y\n",
        "x_digits = digits.data\n",
        "y_digits = digits.target\n",
        "\n",
        "# find the number of instances in our dataset\n",
        "n_samples = len(x_digits) # size of the variable x_digits.\n",
        "print ('Number of examples: %d' % n_samples) # a format print statement: prints the string substituting the variable for the digit placeholder '%d'\n",
        "\n",
        "# Look at the input (x) and label (y) for a particular jth instance\n",
        "j = 8\n",
        "print ('Input #%d:' % j, x_digits[j])\n",
        "print ('Label #%d:' % j, y_digits[j])"
      ],
      "execution_count": 11,
      "outputs": [
        {
          "output_type": "stream",
          "text": [
            "Number of examples: 1797\n",
            "Input #8: [ 0.  0.  9. 14.  8.  1.  0.  0.  0.  0. 12. 14. 14. 12.  0.  0.  0.  0.\n",
            "  9. 10.  0. 15.  4.  0.  0.  0.  3. 16. 12. 14.  2.  0.  0.  0.  4. 16.\n",
            " 16.  2.  0.  0.  0.  3. 16.  8. 10. 13.  2.  0.  0.  1. 15.  1.  3. 16.\n",
            "  8.  0.  0.  0. 11. 16. 15. 11.  1.  0.]\n",
            "Label #8: 8\n"
          ],
          "name": "stdout"
        }
      ]
    },
    {
      "cell_type": "markdown",
      "metadata": {
        "id": "waUWyPq4P8ld"
      },
      "source": [
        "This particular dataset are handwritten digits and represented by $8\\times8 = 64$ entries, where each row concatenated in series to form a 1-dimension vector.  See whether you can make sense of the data.  Pick another instance (1–9) and run the same code and guess the number below."
      ]
    },
    {
      "cell_type": "code",
      "metadata": {
        "id": "AJ6qRcgDQKa9",
        "colab": {
          "base_uri": "https://localhost:8080/"
        },
        "outputId": "ddf0d79f-304d-4b69-a0d9-eb6b99c9e5a4"
      },
      "source": [
        "k = 7 # Change this line to some number 1–9\n",
        "print ('Input #%d:' % k, x_digits[k])"
      ],
      "execution_count": 3,
      "outputs": [
        {
          "output_type": "stream",
          "text": [
            "Input #7: [ 0.  0.  7.  8. 13. 16. 15.  1.  0.  0.  7.  7.  4. 11. 12.  0.  0.  0.\n",
            "  0.  0.  8. 13.  1.  0.  0.  4.  8.  8. 15. 15.  6.  0.  0.  2. 11. 15.\n",
            " 15.  4.  0.  0.  0.  0.  0. 16.  5.  0.  0.  0.  0.  0.  9. 15.  1.  0.\n",
            "  0.  0.  0.  0. 13.  5.  0.  0.  0.  0.]\n"
          ],
          "name": "stdout"
        }
      ]
    },
    {
      "cell_type": "markdown",
      "metadata": {
        "id": "LVTa3qZbQsoK"
      },
      "source": [
        "**Your Turn (Question 1)** Guess the digit that your number represents.  Write in the assessment cell, your input digit *k* and your guess as a two-tuple (e.g., The zeroth entry is a '0': `(0,0)`)."
      ]
    },
    {
      "cell_type": "code",
      "metadata": {
        "id": "Hh-CQoNnTPGB"
      },
      "source": [
        "Q1 = (7,7)"
      ],
      "execution_count": 7,
      "outputs": []
    },
    {
      "cell_type": "markdown",
      "metadata": {
        "id": "ZUJq0r75g-cW"
      },
      "source": [
        "Next, we'll split the data instances into those used to learn the model (training instances), and those used to assess the learned model's performance (testing instances)."
      ]
    },
    {
      "cell_type": "code",
      "metadata": {
        "id": "AZrjhimNnUn9",
        "colab": {
          "base_uri": "https://localhost:8080/"
        },
        "outputId": "496a7731-1afe-4847-b5e0-bcc82ae07f59"
      },
      "source": [
        "# set aside the first 90% of the data for the training and the remaining 10% for testing.\n",
        "x_train = x_digits[0:int(.9 * n_samples)] #90% training\n",
        "y_train = y_digits[0:int(.9 * n_samples)]\n",
        "x_test = x_digits[int(.9 * n_samples):] #10% testing\n",
        "y_test = y_digits[int(.9 * n_samples):]\n",
        "print ('Number of training examples: %d' % len(x_train))\n",
        "print ('Number of testing examples: %d' % len(x_test))"
      ],
      "execution_count": 8,
      "outputs": [
        {
          "output_type": "stream",
          "text": [
            "Number of training examples: 1617\n",
            "Number of testing examples: 180\n"
          ],
          "name": "stdout"
        }
      ]
    },
    {
      "cell_type": "markdown",
      "metadata": {
        "id": "M6DWrK42g-a3"
      },
      "source": [
        "Finally we'll do model learning and assessing.  Although it's the core of what we are learning in this course, in `sklearn`, it's a few (actually just 1, in the original tutorial) lines of code:"
      ]
    },
    {
      "cell_type": "code",
      "metadata": {
        "id": "cQGvSIpRp9l8",
        "colab": {
          "base_uri": "https://localhost:8080/"
        },
        "outputId": "3d5017b2-e345-4f7b-9bdf-14be39d6d402"
      },
      "source": [
        "# import the library to use our desired classifier (here, nearest neighbors, we'll see it next week) \n",
        "from sklearn import neighbors\n",
        "\n",
        "# create an instance of the learner\n",
        "knn = neighbors.KNeighborsClassifier()\n",
        "\n",
        "# learn a model from the training data \n",
        "knn.fit(x_train, y_train)\n",
        "\n",
        "# evaluate our model over the testing data and print its accuracy.  We'll save its performance to show we did some work in class!\n",
        "Q02 = knn.score(x_test,y_test)             \n",
        "print('KNN score: %f' % Q02)"
      ],
      "execution_count": 9,
      "outputs": [
        {
          "output_type": "stream",
          "text": [
            "KNN score: 0.961111\n"
          ],
          "name": "stdout"
        }
      ]
    },
    {
      "cell_type": "markdown",
      "metadata": {
        "id": "vBsNzyHjqK-z"
      },
      "source": [
        "That was pretty easy, wasn't it?  Congratulations on finishing your first programming assignment in Colab!\n",
        "\n",
        "**Your Turn (Question 2)** Paste your kNN classifier's score result into the assessment cell."
      ]
    },
    {
      "cell_type": "markdown",
      "metadata": {
        "id": "3Kh5Jl7QS5LB"
      },
      "source": [
        "# 2 Academic Integrity\n",
        "\n",
        "This and other pre- and in-lecture assignments will need to be done individually, unless otherwise advised by your instruction staff.  With e-learning and e-assessments, it is easy to trap yourself, do the wrong thing and subvert your own intention to master the materials in CS3244 Machine Learning.  So we need to remind you of the consequence of cheating or plagiarsing your individual assignments."
      ]
    },
    {
      "cell_type": "markdown",
      "metadata": {
        "id": "xyviVjhFVbmi"
      },
      "source": [
        "**Your Turn (Question 3)**: Is it ok to collaborate on individual assignments?  If so, how are you supposed to do it?  \n",
        "\n",
        "Write your answer (Yes, No) and your justification.\n",
        "\n",
        "Yes. As long as we follow class policy and attempt to do the assignment individually after discussion."
      ]
    },
    {
      "cell_type": "markdown",
      "metadata": {
        "id": "UNGPoCGTuK23"
      },
      "source": [
        "**Your Turn (Question 4)**: What happens to your class grade if you are found cheating or plagiarising?\n",
        "\n",
        "Write a sentence describing the consequence.\n",
        "\n",
        "Zero marks for the assignment and overall grade for CS3244 rounded down by half a letter grade."
      ]
    },
    {
      "cell_type": "markdown",
      "metadata": {
        "id": "4VDiv2C_U-TW"
      },
      "source": [
        "Did you get it right?  Yes?  Good job! (_Psst, did you actually watch the `01a.intro-class-org` video? If not yet, this would be a good time to schedule time to do it._)"
      ]
    },
    {
      "cell_type": "markdown",
      "metadata": {
        "id": "fJ3EPCnkrPNw"
      },
      "source": [
        "# Credits\n",
        "Authored by [Min-Yen Kan](http://www.comp.nus.edu.sg/~kanmy), Chris Boesch and Martin Strobel (2021–2018), affiliated with [WING](http://wing.comp.nus.edu.sg), [NUS School of Computing](http://www.comp.nus.edu.sg) and [ALSET](http://www.nus.edu.sg/alset). Inspired in part by Andrew Ng's Coursera course and Yaser S. Abu-Mostafa's Caltech course.\n",
        "Licensed as: [Creative Commons Attribution 4.0 International](https://creativecommons.org/licenses/by/4.0/ ) (CC BY 4.0).\n",
        "Please retain and add to this credits cell if using this material as a whole or in part.   Credits for photos given in their captions."
      ]
    }
  ]
}